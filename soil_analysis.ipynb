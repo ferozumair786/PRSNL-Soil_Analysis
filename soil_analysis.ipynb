{
 "cells": [
  {
   "cell_type": "code",
   "execution_count": 1,
   "metadata": {},
   "outputs": [],
   "source": [
    "import pandas as pd"
   ]
  },
  {
   "cell_type": "code",
   "execution_count": 2,
   "metadata": {},
   "outputs": [],
   "source": [
    "df_soil_19 = pd.read_excel('2019_Metals_Results_-_Soil_Kitchen.xls')"
   ]
  },
  {
   "cell_type": "code",
   "execution_count": 3,
   "metadata": {},
   "outputs": [
    {
     "data": {
      "text/html": [
       "<div>\n",
       "<style scoped>\n",
       "    .dataframe tbody tr th:only-of-type {\n",
       "        vertical-align: middle;\n",
       "    }\n",
       "\n",
       "    .dataframe tbody tr th {\n",
       "        vertical-align: top;\n",
       "    }\n",
       "\n",
       "    .dataframe thead th {\n",
       "        text-align: right;\n",
       "    }\n",
       "</style>\n",
       "<table border=\"1\" class=\"dataframe\">\n",
       "  <thead>\n",
       "    <tr style=\"text-align: right;\">\n",
       "      <th></th>\n",
       "      <th>Unnamed: 0</th>\n",
       "      <th>Unnamed: 1</th>\n",
       "      <th>Unnamed: 2</th>\n",
       "      <th>Unnamed: 3</th>\n",
       "      <th>Unnamed: 4</th>\n",
       "      <th>Unnamed: 5</th>\n",
       "      <th>Unnamed: 6</th>\n",
       "      <th>Unnamed: 7</th>\n",
       "      <th>Unnamed: 8</th>\n",
       "      <th>Unnamed: 9</th>\n",
       "      <th>Unnamed: 10</th>\n",
       "      <th>Unnamed: 11</th>\n",
       "      <th>Unnamed: 12</th>\n",
       "    </tr>\n",
       "  </thead>\n",
       "  <tbody>\n",
       "    <tr>\n",
       "      <td>0</td>\n",
       "      <td>NaN</td>\n",
       "      <td>Sample</td>\n",
       "      <td>Street</td>\n",
       "      <td>Cross Street</td>\n",
       "      <td>Initials</td>\n",
       "      <td>Chemical</td>\n",
       "      <td>Lead</td>\n",
       "      <td>Arsenic</td>\n",
       "      <td>Copper</td>\n",
       "      <td>Iron</td>\n",
       "      <td>Manganese</td>\n",
       "      <td>Nickel</td>\n",
       "      <td>Zinc</td>\n",
       "    </tr>\n",
       "    <tr>\n",
       "      <td>1</td>\n",
       "      <td>NaN</td>\n",
       "      <td>NaN</td>\n",
       "      <td>NaN</td>\n",
       "      <td>NaN</td>\n",
       "      <td>NaN</td>\n",
       "      <td>Texas-specific Background</td>\n",
       "      <td>15</td>\n",
       "      <td>5.9</td>\n",
       "      <td>15</td>\n",
       "      <td>15000</td>\n",
       "      <td>300</td>\n",
       "      <td>10</td>\n",
       "      <td>30</td>\n",
       "    </tr>\n",
       "    <tr>\n",
       "      <td>2</td>\n",
       "      <td>NaN</td>\n",
       "      <td>NaN</td>\n",
       "      <td>NaN</td>\n",
       "      <td>NaN</td>\n",
       "      <td>NaN</td>\n",
       "      <td>GW-Soil-Ing</td>\n",
       "      <td>3</td>\n",
       "      <td>5</td>\n",
       "      <td>1000</td>\n",
       "      <td>NaN</td>\n",
       "      <td>1200</td>\n",
       "      <td>160</td>\n",
       "      <td>2400</td>\n",
       "    </tr>\n",
       "    <tr>\n",
       "      <td>3</td>\n",
       "      <td>NaN</td>\n",
       "      <td>NaN</td>\n",
       "      <td>NaN</td>\n",
       "      <td>NaN</td>\n",
       "      <td>NaN</td>\n",
       "      <td>Tot-Soil-Combined</td>\n",
       "      <td>500</td>\n",
       "      <td>24</td>\n",
       "      <td>1300</td>\n",
       "      <td>NaN</td>\n",
       "      <td>3900</td>\n",
       "      <td>840</td>\n",
       "      <td>9900</td>\n",
       "    </tr>\n",
       "    <tr>\n",
       "      <td>4</td>\n",
       "      <td>NaN</td>\n",
       "      <td>Column2</td>\n",
       "      <td>Column3</td>\n",
       "      <td>Column4</td>\n",
       "      <td>Column5</td>\n",
       "      <td>Column6</td>\n",
       "      <td>Column7</td>\n",
       "      <td>Column8</td>\n",
       "      <td>Column9</td>\n",
       "      <td>Column10</td>\n",
       "      <td>Column11</td>\n",
       "      <td>Column12</td>\n",
       "      <td>Column13</td>\n",
       "    </tr>\n",
       "  </tbody>\n",
       "</table>\n",
       "</div>"
      ],
      "text/plain": [
       "   Unnamed: 0 Unnamed: 1 Unnamed: 2    Unnamed: 3 Unnamed: 4  \\\n",
       "0         NaN     Sample     Street  Cross Street   Initials   \n",
       "1         NaN        NaN        NaN           NaN        NaN   \n",
       "2         NaN        NaN        NaN           NaN        NaN   \n",
       "3         NaN        NaN        NaN           NaN        NaN   \n",
       "4         NaN    Column2    Column3       Column4    Column5   \n",
       "\n",
       "                  Unnamed: 5 Unnamed: 6 Unnamed: 7 Unnamed: 8 Unnamed: 9  \\\n",
       "0                  Chemical        Lead    Arsenic     Copper       Iron   \n",
       "1  Texas-specific Background         15        5.9         15      15000   \n",
       "2                GW-Soil-Ing          3          5       1000        NaN   \n",
       "3          Tot-Soil-Combined        500         24       1300        NaN   \n",
       "4                    Column6    Column7    Column8    Column9   Column10   \n",
       "\n",
       "  Unnamed: 10 Unnamed: 11 Unnamed: 12  \n",
       "0   Manganese      Nickel        Zinc  \n",
       "1         300          10          30  \n",
       "2        1200         160        2400  \n",
       "3        3900         840        9900  \n",
       "4    Column11    Column12    Column13  "
      ]
     },
     "execution_count": 3,
     "metadata": {},
     "output_type": "execute_result"
    }
   ],
   "source": [
    "df_soil_19.head()"
   ]
  },
  {
   "cell_type": "code",
   "execution_count": 4,
   "metadata": {},
   "outputs": [],
   "source": [
    "df_soil_19 = df_soil_19.drop(columns=['Unnamed: 0'])"
   ]
  },
  {
   "cell_type": "code",
   "execution_count": 5,
   "metadata": {},
   "outputs": [],
   "source": [
    "df_soil_19.columns = df_soil_19.iloc[0]"
   ]
  },
  {
   "cell_type": "code",
   "execution_count": 6,
   "metadata": {},
   "outputs": [],
   "source": [
    "df_base_19 = df_soil_19.head()"
   ]
  },
  {
   "cell_type": "code",
   "execution_count": 7,
   "metadata": {},
   "outputs": [],
   "source": [
    "df_soil_19 = df_soil_19.drop(index=[0,1,2,3,4])"
   ]
  },
  {
   "cell_type": "code",
   "execution_count": 8,
   "metadata": {},
   "outputs": [],
   "source": [
    "df_soil_19 = df_soil_19[['Street', 'Cross Street', 'Lead', 'Arsenic']]"
   ]
  },
  {
   "cell_type": "code",
   "execution_count": 9,
   "metadata": {},
   "outputs": [],
   "source": [
    "df_soil_18 = pd.read_csv('2015-18 Soil_Kitchen_Log.csv')"
   ]
  },
  {
   "cell_type": "code",
   "execution_count": 10,
   "metadata": {},
   "outputs": [
    {
     "data": {
      "text/html": [
       "<div>\n",
       "<style scoped>\n",
       "    .dataframe tbody tr th:only-of-type {\n",
       "        vertical-align: middle;\n",
       "    }\n",
       "\n",
       "    .dataframe tbody tr th {\n",
       "        vertical-align: top;\n",
       "    }\n",
       "\n",
       "    .dataframe thead th {\n",
       "        text-align: right;\n",
       "    }\n",
       "</style>\n",
       "<table border=\"1\" class=\"dataframe\">\n",
       "  <thead>\n",
       "    <tr style=\"text-align: right;\">\n",
       "      <th></th>\n",
       "      <th>Unique ID</th>\n",
       "      <th>Sample Number</th>\n",
       "      <th>Year</th>\n",
       "      <th>Street</th>\n",
       "      <th>Cross Street</th>\n",
       "      <th>City,State</th>\n",
       "      <th>Full Address</th>\n",
       "      <th>Initials</th>\n",
       "      <th>Notes</th>\n",
       "      <th>Lead</th>\n",
       "      <th>...</th>\n",
       "      <th>Chromium</th>\n",
       "      <th>Arsenic</th>\n",
       "      <th>Copper</th>\n",
       "      <th>Mercury</th>\n",
       "      <th>Nickel</th>\n",
       "      <th>Selenium</th>\n",
       "      <th>Silver</th>\n",
       "      <th>Antimony</th>\n",
       "      <th>Cadimum</th>\n",
       "      <th>Iron</th>\n",
       "    </tr>\n",
       "  </thead>\n",
       "  <tbody>\n",
       "    <tr>\n",
       "      <td>0</td>\n",
       "      <td>1-2015</td>\n",
       "      <td>1</td>\n",
       "      <td>2015</td>\n",
       "      <td>Adelphi</td>\n",
       "      <td>Amherst</td>\n",
       "      <td>Austin, TX</td>\n",
       "      <td>Adelphi &amp; Amherst,Austin, TX</td>\n",
       "      <td>MB</td>\n",
       "      <td>NaN</td>\n",
       "      <td>24</td>\n",
       "      <td>...</td>\n",
       "      <td>NaN</td>\n",
       "      <td>NaN</td>\n",
       "      <td>38.0</td>\n",
       "      <td>NaN</td>\n",
       "      <td>NaN</td>\n",
       "      <td>NaN</td>\n",
       "      <td>NaN</td>\n",
       "      <td>NaN</td>\n",
       "      <td>NaN</td>\n",
       "      <td>NaN</td>\n",
       "    </tr>\n",
       "    <tr>\n",
       "      <td>1</td>\n",
       "      <td>3-2015</td>\n",
       "      <td>3</td>\n",
       "      <td>2015</td>\n",
       "      <td>Blessing</td>\n",
       "      <td>E. Anderson</td>\n",
       "      <td>Austin, TX</td>\n",
       "      <td>Blessing &amp; E. Anderson,Austin, TX</td>\n",
       "      <td>MB</td>\n",
       "      <td>NaN</td>\n",
       "      <td>15</td>\n",
       "      <td>...</td>\n",
       "      <td>NaN</td>\n",
       "      <td>NaN</td>\n",
       "      <td>NaN</td>\n",
       "      <td>NaN</td>\n",
       "      <td>NaN</td>\n",
       "      <td>NaN</td>\n",
       "      <td>NaN</td>\n",
       "      <td>NaN</td>\n",
       "      <td>NaN</td>\n",
       "      <td>NaN</td>\n",
       "    </tr>\n",
       "    <tr>\n",
       "      <td>2</td>\n",
       "      <td>4-2015</td>\n",
       "      <td>4</td>\n",
       "      <td>2015</td>\n",
       "      <td>Cameron</td>\n",
       "      <td>E. Anderson</td>\n",
       "      <td>Austin, TX</td>\n",
       "      <td>Cameron &amp; E. Anderson,Austin, TX</td>\n",
       "      <td>MB</td>\n",
       "      <td>NaN</td>\n",
       "      <td>NaN</td>\n",
       "      <td>...</td>\n",
       "      <td>NaN</td>\n",
       "      <td>NaN</td>\n",
       "      <td>NaN</td>\n",
       "      <td>NaN</td>\n",
       "      <td>NaN</td>\n",
       "      <td>NaN</td>\n",
       "      <td>NaN</td>\n",
       "      <td>NaN</td>\n",
       "      <td>NaN</td>\n",
       "      <td>NaN</td>\n",
       "    </tr>\n",
       "    <tr>\n",
       "      <td>3</td>\n",
       "      <td>5-2015</td>\n",
       "      <td>5</td>\n",
       "      <td>2015</td>\n",
       "      <td>Lake Austin</td>\n",
       "      <td>Mopac</td>\n",
       "      <td>Austin, TX</td>\n",
       "      <td>Lake Austin &amp; Mopac,Austin, TX</td>\n",
       "      <td>CW</td>\n",
       "      <td>NaN</td>\n",
       "      <td>27</td>\n",
       "      <td>...</td>\n",
       "      <td>NaN</td>\n",
       "      <td>NaN</td>\n",
       "      <td>NaN</td>\n",
       "      <td>NaN</td>\n",
       "      <td>NaN</td>\n",
       "      <td>NaN</td>\n",
       "      <td>NaN</td>\n",
       "      <td>NaN</td>\n",
       "      <td>NaN</td>\n",
       "      <td>NaN</td>\n",
       "    </tr>\n",
       "    <tr>\n",
       "      <td>4</td>\n",
       "      <td>6-2015</td>\n",
       "      <td>6</td>\n",
       "      <td>2015</td>\n",
       "      <td>Waterson</td>\n",
       "      <td>Mopac</td>\n",
       "      <td>Austin, TX</td>\n",
       "      <td>Waterson &amp; Mopac,Austin, TX</td>\n",
       "      <td>CW</td>\n",
       "      <td>NaN</td>\n",
       "      <td>190</td>\n",
       "      <td>...</td>\n",
       "      <td>NaN</td>\n",
       "      <td>NaN</td>\n",
       "      <td>NaN</td>\n",
       "      <td>NaN</td>\n",
       "      <td>NaN</td>\n",
       "      <td>NaN</td>\n",
       "      <td>NaN</td>\n",
       "      <td>NaN</td>\n",
       "      <td>NaN</td>\n",
       "      <td>NaN</td>\n",
       "    </tr>\n",
       "  </tbody>\n",
       "</table>\n",
       "<p>5 rows × 23 columns</p>\n",
       "</div>"
      ],
      "text/plain": [
       "  Unique ID Sample Number  Year        Street  Cross Street  City,State  \\\n",
       "0    1-2015             1  2015      Adelphi        Amherst  Austin, TX   \n",
       "1    3-2015             3  2015     Blessing    E. Anderson  Austin, TX   \n",
       "2    4-2015             4  2015      Cameron    E. Anderson  Austin, TX   \n",
       "3    5-2015             5  2015  Lake Austin          Mopac  Austin, TX   \n",
       "4    6-2015             6  2015     Waterson          Mopac  Austin, TX   \n",
       "\n",
       "                        Full Address Initials Notes Lead  ... Chromium  \\\n",
       "0       Adelphi & Amherst,Austin, TX       MB   NaN   24  ...      NaN   \n",
       "1  Blessing & E. Anderson,Austin, TX       MB   NaN   15  ...      NaN   \n",
       "2   Cameron & E. Anderson,Austin, TX       MB   NaN  NaN  ...      NaN   \n",
       "3     Lake Austin & Mopac,Austin, TX       CW   NaN   27  ...      NaN   \n",
       "4        Waterson & Mopac,Austin, TX       CW   NaN  190  ...      NaN   \n",
       "\n",
       "   Arsenic  Copper  Mercury Nickel  Selenium Silver Antimony  Cadimum  Iron  \n",
       "0      NaN    38.0      NaN    NaN       NaN    NaN      NaN      NaN   NaN  \n",
       "1      NaN     NaN      NaN    NaN       NaN    NaN      NaN      NaN   NaN  \n",
       "2      NaN     NaN      NaN    NaN       NaN    NaN      NaN      NaN   NaN  \n",
       "3      NaN     NaN      NaN    NaN       NaN    NaN      NaN      NaN   NaN  \n",
       "4      NaN     NaN      NaN    NaN       NaN    NaN      NaN      NaN   NaN  \n",
       "\n",
       "[5 rows x 23 columns]"
      ]
     },
     "execution_count": 10,
     "metadata": {},
     "output_type": "execute_result"
    }
   ],
   "source": [
    "df_soil_18.head()"
   ]
  },
  {
   "cell_type": "code",
   "execution_count": 11,
   "metadata": {},
   "outputs": [],
   "source": [
    "df_soil_18 = df_soil_18[['Street', 'Cross Street', 'Full Address', 'Lead', 'Arsenic']]"
   ]
  },
  {
   "cell_type": "code",
   "execution_count": 12,
   "metadata": {},
   "outputs": [
    {
     "data": {
      "text/html": [
       "<div>\n",
       "<style scoped>\n",
       "    .dataframe tbody tr th:only-of-type {\n",
       "        vertical-align: middle;\n",
       "    }\n",
       "\n",
       "    .dataframe tbody tr th {\n",
       "        vertical-align: top;\n",
       "    }\n",
       "\n",
       "    .dataframe thead th {\n",
       "        text-align: right;\n",
       "    }\n",
       "</style>\n",
       "<table border=\"1\" class=\"dataframe\">\n",
       "  <thead>\n",
       "    <tr style=\"text-align: right;\">\n",
       "      <th></th>\n",
       "      <th>Street</th>\n",
       "      <th>Cross Street</th>\n",
       "      <th>Full Address</th>\n",
       "      <th>Lead</th>\n",
       "      <th>Arsenic</th>\n",
       "    </tr>\n",
       "  </thead>\n",
       "  <tbody>\n",
       "    <tr>\n",
       "      <td>0</td>\n",
       "      <td>Adelphi</td>\n",
       "      <td>Amherst</td>\n",
       "      <td>Adelphi &amp; Amherst,Austin, TX</td>\n",
       "      <td>24</td>\n",
       "      <td>NaN</td>\n",
       "    </tr>\n",
       "    <tr>\n",
       "      <td>1</td>\n",
       "      <td>Blessing</td>\n",
       "      <td>E. Anderson</td>\n",
       "      <td>Blessing &amp; E. Anderson,Austin, TX</td>\n",
       "      <td>15</td>\n",
       "      <td>NaN</td>\n",
       "    </tr>\n",
       "    <tr>\n",
       "      <td>2</td>\n",
       "      <td>Cameron</td>\n",
       "      <td>E. Anderson</td>\n",
       "      <td>Cameron &amp; E. Anderson,Austin, TX</td>\n",
       "      <td>NaN</td>\n",
       "      <td>NaN</td>\n",
       "    </tr>\n",
       "    <tr>\n",
       "      <td>3</td>\n",
       "      <td>Lake Austin</td>\n",
       "      <td>Mopac</td>\n",
       "      <td>Lake Austin &amp; Mopac,Austin, TX</td>\n",
       "      <td>27</td>\n",
       "      <td>NaN</td>\n",
       "    </tr>\n",
       "    <tr>\n",
       "      <td>4</td>\n",
       "      <td>Waterson</td>\n",
       "      <td>Mopac</td>\n",
       "      <td>Waterson &amp; Mopac,Austin, TX</td>\n",
       "      <td>190</td>\n",
       "      <td>NaN</td>\n",
       "    </tr>\n",
       "  </tbody>\n",
       "</table>\n",
       "</div>"
      ],
      "text/plain": [
       "         Street  Cross Street                       Full Address Lead Arsenic\n",
       "0      Adelphi        Amherst       Adelphi & Amherst,Austin, TX   24     NaN\n",
       "1     Blessing    E. Anderson  Blessing & E. Anderson,Austin, TX   15     NaN\n",
       "2      Cameron    E. Anderson   Cameron & E. Anderson,Austin, TX  NaN     NaN\n",
       "3  Lake Austin          Mopac     Lake Austin & Mopac,Austin, TX   27     NaN\n",
       "4     Waterson          Mopac        Waterson & Mopac,Austin, TX  190     NaN"
      ]
     },
     "execution_count": 12,
     "metadata": {},
     "output_type": "execute_result"
    }
   ],
   "source": [
    "df_soil_18.head()"
   ]
  },
  {
   "cell_type": "code",
   "execution_count": 13,
   "metadata": {},
   "outputs": [],
   "source": [
    "df_loc_18 = pd.read_csv('Locations Key 2015-2017.csv')"
   ]
  },
  {
   "cell_type": "code",
   "execution_count": 14,
   "metadata": {},
   "outputs": [
    {
     "data": {
      "text/html": [
       "<div>\n",
       "<style scoped>\n",
       "    .dataframe tbody tr th:only-of-type {\n",
       "        vertical-align: middle;\n",
       "    }\n",
       "\n",
       "    .dataframe tbody tr th {\n",
       "        vertical-align: top;\n",
       "    }\n",
       "\n",
       "    .dataframe thead th {\n",
       "        text-align: right;\n",
       "    }\n",
       "</style>\n",
       "<table border=\"1\" class=\"dataframe\">\n",
       "  <thead>\n",
       "    <tr style=\"text-align: right;\">\n",
       "      <th></th>\n",
       "      <th>Address</th>\n",
       "      <th>Latitude</th>\n",
       "      <th>Longitude</th>\n",
       "    </tr>\n",
       "  </thead>\n",
       "  <tbody>\n",
       "    <tr>\n",
       "      <td>0</td>\n",
       "      <td>Hearwood,Thistlewood,Austin, TX</td>\n",
       "      <td>30.213898</td>\n",
       "      <td>-97.774223</td>\n",
       "    </tr>\n",
       "    <tr>\n",
       "      <td>1</td>\n",
       "      <td>Silk Oak,Bradner,Austin, TX</td>\n",
       "      <td>30.185817</td>\n",
       "      <td>-97.839934</td>\n",
       "    </tr>\n",
       "    <tr>\n",
       "      <td>2</td>\n",
       "      <td>Tahoe Trail,Jones Rd,Austin, TX</td>\n",
       "      <td>30.224777</td>\n",
       "      <td>-97.804105</td>\n",
       "    </tr>\n",
       "    <tr>\n",
       "      <td>3</td>\n",
       "      <td>North Loop,Avenue H,Austin, TX</td>\n",
       "      <td>30.314667</td>\n",
       "      <td>-97.720800</td>\n",
       "    </tr>\n",
       "    <tr>\n",
       "      <td>4</td>\n",
       "      <td>Easy Wind,Cannoneer,Austin, TX</td>\n",
       "      <td>30.344105</td>\n",
       "      <td>-97.717867</td>\n",
       "    </tr>\n",
       "  </tbody>\n",
       "</table>\n",
       "</div>"
      ],
      "text/plain": [
       "                           Address   Latitude  Longitude\n",
       "0  Hearwood,Thistlewood,Austin, TX  30.213898 -97.774223\n",
       "1      Silk Oak,Bradner,Austin, TX  30.185817 -97.839934\n",
       "2  Tahoe Trail,Jones Rd,Austin, TX  30.224777 -97.804105\n",
       "3   North Loop,Avenue H,Austin, TX  30.314667 -97.720800\n",
       "4   Easy Wind,Cannoneer,Austin, TX  30.344105 -97.717867"
      ]
     },
     "execution_count": 14,
     "metadata": {},
     "output_type": "execute_result"
    }
   ],
   "source": [
    "df_loc_18.head()"
   ]
  },
  {
   "cell_type": "code",
   "execution_count": 15,
   "metadata": {},
   "outputs": [],
   "source": [
    "df_soil_18['Full Address'] = [street + ',' + cross_street + ', Austin, TX' for street, cross_street in zip(df_soil_18['Street'], df_soil_18['Cross Street'])]\n"
   ]
  },
  {
   "cell_type": "code",
   "execution_count": 16,
   "metadata": {},
   "outputs": [
    {
     "data": {
      "text/html": [
       "<div>\n",
       "<style scoped>\n",
       "    .dataframe tbody tr th:only-of-type {\n",
       "        vertical-align: middle;\n",
       "    }\n",
       "\n",
       "    .dataframe tbody tr th {\n",
       "        vertical-align: top;\n",
       "    }\n",
       "\n",
       "    .dataframe thead th {\n",
       "        text-align: right;\n",
       "    }\n",
       "</style>\n",
       "<table border=\"1\" class=\"dataframe\">\n",
       "  <thead>\n",
       "    <tr style=\"text-align: right;\">\n",
       "      <th></th>\n",
       "      <th>Street</th>\n",
       "      <th>Cross Street</th>\n",
       "      <th>Full Address</th>\n",
       "      <th>Lead</th>\n",
       "      <th>Arsenic</th>\n",
       "    </tr>\n",
       "  </thead>\n",
       "  <tbody>\n",
       "    <tr>\n",
       "      <td>0</td>\n",
       "      <td>Adelphi</td>\n",
       "      <td>Amherst</td>\n",
       "      <td>Adelphi , Amherst, Austin, TX</td>\n",
       "      <td>24</td>\n",
       "      <td>NaN</td>\n",
       "    </tr>\n",
       "    <tr>\n",
       "      <td>1</td>\n",
       "      <td>Blessing</td>\n",
       "      <td>E. Anderson</td>\n",
       "      <td>Blessing , E. Anderson, Austin, TX</td>\n",
       "      <td>15</td>\n",
       "      <td>NaN</td>\n",
       "    </tr>\n",
       "    <tr>\n",
       "      <td>2</td>\n",
       "      <td>Cameron</td>\n",
       "      <td>E. Anderson</td>\n",
       "      <td>Cameron , E. Anderson, Austin, TX</td>\n",
       "      <td>NaN</td>\n",
       "      <td>NaN</td>\n",
       "    </tr>\n",
       "    <tr>\n",
       "      <td>3</td>\n",
       "      <td>Lake Austin</td>\n",
       "      <td>Mopac</td>\n",
       "      <td>Lake Austin , Mopac, Austin, TX</td>\n",
       "      <td>27</td>\n",
       "      <td>NaN</td>\n",
       "    </tr>\n",
       "    <tr>\n",
       "      <td>4</td>\n",
       "      <td>Waterson</td>\n",
       "      <td>Mopac</td>\n",
       "      <td>Waterson , Mopac, Austin, TX</td>\n",
       "      <td>190</td>\n",
       "      <td>NaN</td>\n",
       "    </tr>\n",
       "  </tbody>\n",
       "</table>\n",
       "</div>"
      ],
      "text/plain": [
       "         Street  Cross Street                        Full Address Lead Arsenic\n",
       "0      Adelphi        Amherst       Adelphi , Amherst, Austin, TX   24     NaN\n",
       "1     Blessing    E. Anderson  Blessing , E. Anderson, Austin, TX   15     NaN\n",
       "2      Cameron    E. Anderson   Cameron , E. Anderson, Austin, TX  NaN     NaN\n",
       "3  Lake Austin          Mopac     Lake Austin , Mopac, Austin, TX   27     NaN\n",
       "4     Waterson          Mopac        Waterson , Mopac, Austin, TX  190     NaN"
      ]
     },
     "execution_count": 16,
     "metadata": {},
     "output_type": "execute_result"
    }
   ],
   "source": [
    "df_soil_18.head()"
   ]
  },
  {
   "cell_type": "code",
   "execution_count": 17,
   "metadata": {},
   "outputs": [],
   "source": [
    "df_soil_19['Full Address'] = [str(street) + ',' + str(cross_street) + ', Austin, TX' for street, cross_street in zip(df_soil_19['Street'], df_soil_19['Cross Street'])]\n"
   ]
  },
  {
   "cell_type": "code",
   "execution_count": 18,
   "metadata": {},
   "outputs": [
    {
     "data": {
      "text/html": [
       "<div>\n",
       "<style scoped>\n",
       "    .dataframe tbody tr th:only-of-type {\n",
       "        vertical-align: middle;\n",
       "    }\n",
       "\n",
       "    .dataframe tbody tr th {\n",
       "        vertical-align: top;\n",
       "    }\n",
       "\n",
       "    .dataframe thead th {\n",
       "        text-align: right;\n",
       "    }\n",
       "</style>\n",
       "<table border=\"1\" class=\"dataframe\">\n",
       "  <thead>\n",
       "    <tr style=\"text-align: right;\">\n",
       "      <th></th>\n",
       "      <th>Street</th>\n",
       "      <th>Cross Street</th>\n",
       "      <th>Lead</th>\n",
       "      <th>Arsenic</th>\n",
       "      <th>Full Address</th>\n",
       "    </tr>\n",
       "  </thead>\n",
       "  <tbody>\n",
       "    <tr>\n",
       "      <td>5</td>\n",
       "      <td>Travis</td>\n",
       "      <td>Belmal</td>\n",
       "      <td>341.32</td>\n",
       "      <td>0</td>\n",
       "      <td>Travis,Belmal, Austin, TX</td>\n",
       "    </tr>\n",
       "    <tr>\n",
       "      <td>6</td>\n",
       "      <td>Salem Walk Dr</td>\n",
       "      <td>Cedar Glen</td>\n",
       "      <td>8.61</td>\n",
       "      <td>0</td>\n",
       "      <td>Salem Walk Dr,Cedar Glen, Austin, TX</td>\n",
       "    </tr>\n",
       "    <tr>\n",
       "      <td>7</td>\n",
       "      <td>Byton Loop</td>\n",
       "      <td>Cherry Creek</td>\n",
       "      <td>0</td>\n",
       "      <td>5.28</td>\n",
       "      <td>Byton Loop,Cherry Creek, Austin, TX</td>\n",
       "    </tr>\n",
       "    <tr>\n",
       "      <td>8</td>\n",
       "      <td>Goodwind</td>\n",
       "      <td>Gunter</td>\n",
       "      <td>10.33</td>\n",
       "      <td>0</td>\n",
       "      <td>Goodwind,Gunter, Austin, TX</td>\n",
       "    </tr>\n",
       "    <tr>\n",
       "      <td>9</td>\n",
       "      <td>Sunshine Dr</td>\n",
       "      <td>51st</td>\n",
       "      <td>41.15</td>\n",
       "      <td>0</td>\n",
       "      <td>Sunshine Dr,51st, Austin, TX</td>\n",
       "    </tr>\n",
       "  </tbody>\n",
       "</table>\n",
       "</div>"
      ],
      "text/plain": [
       "0         Street  Cross Street    Lead Arsenic  \\\n",
       "5         Travis        Belmal  341.32       0   \n",
       "6  Salem Walk Dr    Cedar Glen    8.61       0   \n",
       "7     Byton Loop  Cherry Creek       0    5.28   \n",
       "8       Goodwind        Gunter   10.33       0   \n",
       "9    Sunshine Dr          51st   41.15       0   \n",
       "\n",
       "0                          Full Address  \n",
       "5             Travis,Belmal, Austin, TX  \n",
       "6  Salem Walk Dr,Cedar Glen, Austin, TX  \n",
       "7   Byton Loop,Cherry Creek, Austin, TX  \n",
       "8           Goodwind,Gunter, Austin, TX  \n",
       "9          Sunshine Dr,51st, Austin, TX  "
      ]
     },
     "execution_count": 18,
     "metadata": {},
     "output_type": "execute_result"
    }
   ],
   "source": [
    "df_soil_19.head()"
   ]
  },
  {
   "cell_type": "code",
   "execution_count": 19,
   "metadata": {},
   "outputs": [],
   "source": [
    "df_soil_18[['Lead', 'Arsenic']] = df_soil_18[['Lead', 'Arsenic']].fillna(0)"
   ]
  },
  {
   "cell_type": "code",
   "execution_count": 37,
   "metadata": {},
   "outputs": [
    {
     "data": {
      "text/html": [
       "<div>\n",
       "<style scoped>\n",
       "    .dataframe tbody tr th:only-of-type {\n",
       "        vertical-align: middle;\n",
       "    }\n",
       "\n",
       "    .dataframe tbody tr th {\n",
       "        vertical-align: top;\n",
       "    }\n",
       "\n",
       "    .dataframe thead th {\n",
       "        text-align: right;\n",
       "    }\n",
       "</style>\n",
       "<table border=\"1\" class=\"dataframe\">\n",
       "  <thead>\n",
       "    <tr style=\"text-align: right;\">\n",
       "      <th></th>\n",
       "      <th>Full Address</th>\n",
       "      <th>Latitude</th>\n",
       "      <th>Longitude</th>\n",
       "    </tr>\n",
       "  </thead>\n",
       "  <tbody>\n",
       "    <tr>\n",
       "      <td>0</td>\n",
       "      <td>10th&amp;Menden,Austin,TX</td>\n",
       "      <td>30.278192</td>\n",
       "      <td>-97.758641</td>\n",
       "    </tr>\n",
       "    <tr>\n",
       "      <td>1</td>\n",
       "      <td>10th&amp;Prospect--Back,Austin,TX</td>\n",
       "      <td>30.267153</td>\n",
       "      <td>-97.743061</td>\n",
       "    </tr>\n",
       "    <tr>\n",
       "      <td>2</td>\n",
       "      <td>10th&amp;Prospect--Front,Austin,TX</td>\n",
       "      <td>30.267153</td>\n",
       "      <td>-97.743061</td>\n",
       "    </tr>\n",
       "    <tr>\n",
       "      <td>3</td>\n",
       "      <td>10thSt.,TheresaAve,Austin,TX</td>\n",
       "      <td>30.279738</td>\n",
       "      <td>-97.766031</td>\n",
       "    </tr>\n",
       "    <tr>\n",
       "      <td>4</td>\n",
       "      <td>12th&amp;Springdale,Austin,TX</td>\n",
       "      <td>30.278961</td>\n",
       "      <td>-97.687041</td>\n",
       "    </tr>\n",
       "    <tr>\n",
       "      <td>...</td>\n",
       "      <td>...</td>\n",
       "      <td>...</td>\n",
       "      <td>...</td>\n",
       "    </tr>\n",
       "    <tr>\n",
       "      <td>663</td>\n",
       "      <td>Woodmoor,Tannehill,Austin,TX</td>\n",
       "      <td>30.239108</td>\n",
       "      <td>-97.787008</td>\n",
       "    </tr>\n",
       "    <tr>\n",
       "      <td>664</td>\n",
       "      <td>Woodrow&amp;Alegria,Austin,TX</td>\n",
       "      <td>30.334284</td>\n",
       "      <td>-97.730361</td>\n",
       "    </tr>\n",
       "    <tr>\n",
       "      <td>665</td>\n",
       "      <td>Woodrow,Brentwood,Austin,TX</td>\n",
       "      <td>30.332230</td>\n",
       "      <td>-97.730884</td>\n",
       "    </tr>\n",
       "    <tr>\n",
       "      <td>666</td>\n",
       "      <td>Yaupon,Dianella,Austin,TX</td>\n",
       "      <td>30.410022</td>\n",
       "      <td>-97.776868</td>\n",
       "    </tr>\n",
       "    <tr>\n",
       "      <td>667</td>\n",
       "      <td>s.3rd,Annie,Austin,TX</td>\n",
       "      <td>30.247760</td>\n",
       "      <td>-97.756131</td>\n",
       "    </tr>\n",
       "  </tbody>\n",
       "</table>\n",
       "<p>668 rows × 3 columns</p>\n",
       "</div>"
      ],
      "text/plain": [
       "                       Full Address   Latitude  Longitude\n",
       "0             10th&Menden,Austin,TX  30.278192 -97.758641\n",
       "1     10th&Prospect--Back,Austin,TX  30.267153 -97.743061\n",
       "2    10th&Prospect--Front,Austin,TX  30.267153 -97.743061\n",
       "3      10thSt.,TheresaAve,Austin,TX  30.279738 -97.766031\n",
       "4         12th&Springdale,Austin,TX  30.278961 -97.687041\n",
       "..                              ...        ...        ...\n",
       "663    Woodmoor,Tannehill,Austin,TX  30.239108 -97.787008\n",
       "664       Woodrow&Alegria,Austin,TX  30.334284 -97.730361\n",
       "665     Woodrow,Brentwood,Austin,TX  30.332230 -97.730884\n",
       "666       Yaupon,Dianella,Austin,TX  30.410022 -97.776868\n",
       "667           s.3rd,Annie,Austin,TX  30.247760 -97.756131\n",
       "\n",
       "[668 rows x 3 columns]"
      ]
     },
     "execution_count": 37,
     "metadata": {},
     "output_type": "execute_result"
    }
   ],
   "source": [
    "df_loc_18_mean"
   ]
  },
  {
   "cell_type": "code",
   "execution_count": 21,
   "metadata": {},
   "outputs": [],
   "source": [
    "df_loc_18 = df_loc_18.rename(columns={'Address': 'Full Address'})"
   ]
  },
  {
   "cell_type": "code",
   "execution_count": 22,
   "metadata": {},
   "outputs": [],
   "source": [
    "df_loc_18['Full Address'] = df_loc_18['Full Address'].astype(str)\n",
    "df_soil_18['Full Address'] = df_soil_18['Full Address'].astype(str)"
   ]
  },
  {
   "cell_type": "code",
   "execution_count": 23,
   "metadata": {},
   "outputs": [],
   "source": [
    "df_loc_18['Full Address'] = df_loc_18['Full Address'].str.replace(pat=' ', repl='')"
   ]
  },
  {
   "cell_type": "code",
   "execution_count": 24,
   "metadata": {},
   "outputs": [],
   "source": [
    "df_soil_18['Full Address'] = df_soil_18['Full Address'].str.replace(pat=' ', repl='')"
   ]
  },
  {
   "cell_type": "code",
   "execution_count": 25,
   "metadata": {},
   "outputs": [],
   "source": [
    "df_loc_18_mean = df_loc_18.groupby(by='Full Address').mean().reset_index()"
   ]
  },
  {
   "cell_type": "code",
   "execution_count": 26,
   "metadata": {},
   "outputs": [],
   "source": [
    "df_18 = pd.merge(df_soil_18, df_loc_18_mean, on='Full Address')"
   ]
  },
  {
   "cell_type": "code",
   "execution_count": 27,
   "metadata": {},
   "outputs": [
    {
     "data": {
      "text/plain": [
       "668"
      ]
     },
     "execution_count": 27,
     "metadata": {},
     "output_type": "execute_result"
    }
   ],
   "source": [
    "len(df_loc_18_mean)"
   ]
  },
  {
   "cell_type": "code",
   "execution_count": 28,
   "metadata": {},
   "outputs": [
    {
     "data": {
      "text/plain": [
       "781"
      ]
     },
     "execution_count": 28,
     "metadata": {},
     "output_type": "execute_result"
    }
   ],
   "source": [
    "len(df_soil_18)"
   ]
  },
  {
   "cell_type": "code",
   "execution_count": 29,
   "metadata": {},
   "outputs": [
    {
     "data": {
      "text/plain": [
       "591"
      ]
     },
     "execution_count": 29,
     "metadata": {},
     "output_type": "execute_result"
    }
   ],
   "source": [
    "len(df_18)"
   ]
  },
  {
   "cell_type": "code",
   "execution_count": 30,
   "metadata": {},
   "outputs": [],
   "source": [
    "from geopy.geocoders import Nominatim"
   ]
  },
  {
   "cell_type": "code",
   "execution_count": 31,
   "metadata": {},
   "outputs": [
    {
     "name": "stdout",
     "output_type": "stream",
     "text": [
      "Flatiron Building, 175, 5th Avenue, Flatiron District, Manhattan Community Board 5, Manhattan, New York County, New York, 10010, United States of America\n"
     ]
    }
   ],
   "source": [
    "geolocator = Nominatim(user_agent=\"soil_analysis\")\n",
    "location = geolocator.geocode(\"175 5th Avenue NYC\")\n",
    "print(location.address)\n",
    "# Flatiron Building, 175, 5th Avenue, Flatiron, New York, NYC, New York, ...\n",
    "# print((location.latitude, location.longitude))"
   ]
  },
  {
   "cell_type": "code",
   "execution_count": null,
   "metadata": {},
   "outputs": [],
   "source": []
  }
 ],
 "metadata": {
  "kernelspec": {
   "display_name": "Python 3",
   "language": "python",
   "name": "python3"
  },
  "language_info": {
   "codemirror_mode": {
    "name": "ipython",
    "version": 3
   },
   "file_extension": ".py",
   "mimetype": "text/x-python",
   "name": "python",
   "nbconvert_exporter": "python",
   "pygments_lexer": "ipython3",
   "version": "3.7.4"
  }
 },
 "nbformat": 4,
 "nbformat_minor": 2
}
