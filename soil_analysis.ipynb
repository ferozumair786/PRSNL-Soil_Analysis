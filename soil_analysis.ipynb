{
 "cells": [
  {
   "cell_type": "code",
   "execution_count": 1,
   "metadata": {},
   "outputs": [],
   "source": [
    "import pandas as pd\n",
    "import requests\n",
    "from apikey import apikey \n",
    "%load_ext blackcellmagic"
   ]
  },
  {
   "cell_type": "code",
   "execution_count": 2,
   "metadata": {},
   "outputs": [],
   "source": [
    "# load and transform 2019 data\n",
    "df_soil_19 = pd.read_excel(\"2019_Metals_Results_-_Soil_Kitchen.xls\")\n",
    "\n",
    "df_soil_19 = df_soil_19.drop(columns=[\"Unnamed: 0\"])\n",
    "\n",
    "df_soil_19.columns = df_soil_19.iloc[0]\n",
    "\n",
    "df_base_19 = df_soil_19.head()\n",
    "\n",
    "df_soil_19 = df_soil_19.drop(index=[0, 1, 2, 3, 4])\n",
    "\n",
    "df_soil_19 = df_soil_19[[\"Street\", \"Cross Street\", \"Lead\", \"Arsenic\"]]"
   ]
  },
  {
   "cell_type": "code",
   "execution_count": 3,
   "metadata": {},
   "outputs": [],
   "source": [
    "# Load and transform 2015-2018 data\n",
    "df_soil_18_15 = pd.read_csv(\"2015-18 Soil_Kitchen_Log.csv\")\n",
    "\n",
    "df_soil_18_15 = df_soil_18_15[\n",
    "    [\"Street\", \"Cross Street\", \"Full Address\", \"Lead\", \"Arsenic\"]\n",
    "]"
   ]
  },
  {
   "cell_type": "code",
   "execution_count": 4,
   "metadata": {},
   "outputs": [],
   "source": [
    "def request_geocoder(intersection, apikey, city=\"Austin, TX\"):\n",
    "    \"\"\"returns lat. lon for cross streets in street1@street2 format.\n",
    "    Defailt city is Austin, TX and apikey is required\"\"\"\n",
    "\n",
    "    base_url = \"https://geocoder.ls.hereapi.com/6.2/geocode.json\"\n",
    "    parameters = {\"city\": city, \"street\": intersection, \"gen\": 9, \"apiKey\": apikey}\n",
    "    try:\n",
    "        response = requests.get(base_url, params=parameters)\n",
    "        j_resp = response.json()\n",
    "        lat = j_resp[\"Response\"][\"View\"][0][\"Result\"][0][\"Location\"][\"DisplayPosition\"][\n",
    "            \"Latitude\"\n",
    "        ]\n",
    "        lon = j_resp[\"Response\"][\"View\"][0][\"Result\"][0][\"Location\"][\"DisplayPosition\"][\n",
    "            \"Longitude\"\n",
    "        ]\n",
    "    #         print(parameters['street'], 'success')\n",
    "    except:\n",
    "        lat = \"\"\n",
    "        lon = \"\"\n",
    "        print(parameters[\"street\"], response)\n",
    "\n",
    "    return pd.Series([lat, lon], index=[\"Lat\", \"Lon\"])"
   ]
  },
  {
   "cell_type": "code",
   "execution_count": 5,
   "metadata": {},
   "outputs": [],
   "source": [
    "def query_cross_streets(df):\n",
    "    \"\"\"this function uses geocoder.ls.hereapi.com to find the geocodes for cross streets from a dataframe\"\"\"\n",
    "    df[[\"Lat\", \"Lon\"]] = df.apply(\n",
    "        lambda x: request_geocoder(x[\"Intersection\"], apikey), axis=1\n",
    "    )\n",
    "    return df"
   ]
  },
  {
   "cell_type": "code",
   "execution_count": 6,
   "metadata": {},
   "outputs": [],
   "source": [
    "df_soil_18_15[\"Lead\"] = pd.to_numeric(df_soil_18_15[\"Lead\"], errors=\"coerce\")\n",
    "\n",
    "df_soil_18_15[\"Arsenic\"] = pd.to_numeric(df_soil_18_15[\"Arsenic\"], errors=\"coerce\")\n",
    "\n",
    "df_soil = df_soil_19.append(df_soil_18_15, ignore_index=True)\n",
    "\n",
    "df_soil[\"Intersection\"] = df_soil.apply(\n",
    "    lambda x: str(x[\"Street\"]) + \"@\" + str(x[\"Cross Street\"]), axis=1\n",
    ")\n",
    "\n",
    "# fillna with median values to preserve dataset size\n",
    "df_soil = df_soil.fillna(df_soil.median())\n",
    "\n",
    "df_soil_mean = (\n",
    "    df_soil[[\"Intersection\", \"Lead\", \"Arsenic\"]]\n",
    "    .groupby([\"Intersection\"])\n",
    "    .mean()\n",
    "    .reset_index()\n",
    ")\n",
    "\n",
    "# print(df_soil)"
   ]
  },
  {
   "cell_type": "code",
   "execution_count": 7,
   "metadata": {},
   "outputs": [
    {
     "name": "stdout",
     "output_type": "stream",
     "text": [
      "290E@973 <Response [200]>\n",
      "A.W. Grimes@Thompson Trl <Response [200]>\n",
      "AW Grimes @ Gattis School <Response [200]>\n",
      "Anarosa@Scofield Farms <Response [200]>\n",
      "Barley Field Pass@Dusty Chisolm Trail <Response [200]>\n",
      "Basket Flower Bend@Prairie Verbena <Response [200]>\n",
      "Byton Loop@Cherry Creek <Response [200]>\n",
      "Country Ln@Morning Sun Ln <Response [200]>\n",
      "Crestwind@Western Sky <Response [200]>\n",
      "Cushing Dr@School Days Dr <Response [200]>\n",
      "E. Baker@Moonlit <Response [200]>\n",
      "Fairweather @ New Hope <Response [200]>\n",
      "I-H 290 @ McArthur Dr. <Response [200]>\n",
      "Indian Summer Pass@Apache <Response [200]>\n",
      "Land Grant Way@Cotton Gin <Response [200]>\n",
      "Moutainclimb@Dry Creek <Response [200]>\n",
      "Oakwood Glen Dr. @ Spider Lily <Response [200]>\n",
      "Oakwood Glen Dr. @ Spider Lily -- ANNEX <Response [200]>\n",
      "Old Kimbro Rd@Us-290 East <Response [200]>\n",
      "Paddle Bend Springs@IH35 <Response [200]>\n",
      "Ray C. Ewry Ln@J Weism <Response [200]>\n",
      "S. Manchaca@Frate-Barker <Response [200]>\n",
      "SE Inner Loop@Rockride Ln <Response [200]>\n",
      "Sandy Bottom @Blue Pond Dr <Response [200]>\n",
      "Star Gazer Way@Spring Brook <Response [200]>\n",
      "Summit Hill Dr@Scenic Dr <Response [200]>\n",
      "Truman Heights/Bunch @ Samuel Houston <Response [200]>\n",
      "Woodmoor@Tannehill <Response [200]>\n"
     ]
    }
   ],
   "source": [
    "# geocode data\n",
    "df_soil_mean_loc = query_cross_streets(df_soil_mean)"
   ]
  },
  {
   "cell_type": "code",
   "execution_count": 8,
   "metadata": {},
   "outputs": [],
   "source": [
    "df_soil_mean_loc[['Lat', 'Lon']] = df_soil_mean_loc[['Lat', 'Lon']].fillna(df_soil_mean_loc[['Lat', 'Lon']].median())"
   ]
  },
  {
   "cell_type": "code",
   "execution_count": 9,
   "metadata": {},
   "outputs": [],
   "source": [
    "df_soil_mean_loc.to_csv('df_soil_mean_loc.csv')"
   ]
  },
  {
   "cell_type": "code",
   "execution_count": null,
   "metadata": {},
   "outputs": [],
   "source": []
  }
 ],
 "metadata": {
  "kernelspec": {
   "display_name": "Python 3",
   "language": "python",
   "name": "python3"
  },
  "language_info": {
   "codemirror_mode": {
    "name": "ipython",
    "version": 3
   },
   "file_extension": ".py",
   "mimetype": "text/x-python",
   "name": "python",
   "nbconvert_exporter": "python",
   "pygments_lexer": "ipython3",
   "version": "3.7.4"
  }
 },
 "nbformat": 4,
 "nbformat_minor": 2
}
